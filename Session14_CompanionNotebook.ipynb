{
  "nbformat": 4,
  "nbformat_minor": 0,
  "metadata": {
    "colab": {
      "name": "Session14_CompanionNotebook.ipynb",
      "provenance": []
    },
    "kernelspec": {
      "name": "python3",
      "display_name": "Python 3"
    }
  },
  "cells": [
    {
      "cell_type": "markdown",
      "metadata": {
        "id": "P5SST_YJRPJc"
      },
      "source": [
        "## Tests for lazy implementation of Polygon class"
      ]
    },
    {
      "cell_type": "code",
      "metadata": {
        "id": "W599U2OnQXGY"
      },
      "source": [
        "import math\n",
        "\n",
        "class Polygon:\n",
        "    def __init__(self, n, R):\n",
        "\n",
        "        self._n = n\n",
        "        self._R = R\n",
        "        self._area = None\n",
        "        self._side_length = None\n",
        "        self._apothem = None\n",
        "        self._perimeter = None\n",
        "    \n",
        "    def __repr__(self):\n",
        "        return f'Polygon(n={self._n}, R={self._R})'\n",
        "    \n",
        "    @property\n",
        "    def count_vertices(self):\n",
        "        return self._n\n",
        "    \n",
        "    @property\n",
        "    def count_edges(self):\n",
        "        return self._n\n",
        "\n",
        "    @property\n",
        "    def circumradius(self):\n",
        "        return self._R\n",
        "\n",
        "    @property\n",
        "    def interior_angle(self):\n",
        "        return (self._n - 2) * 180 / self._n\n",
        "\n",
        "    @property\n",
        "    def side_length(self):\n",
        "        if self._side_length is None:\n",
        "            print('Calculating...')\n",
        "            self._side_length = 2 * self._R * math.sin(math.pi / self._n)\n",
        "        print(\"Called\")\n",
        "        return self._side_length\n",
        "\n",
        "    @property\n",
        "    def apothem(self):\n",
        "        if self._apothem is None:\n",
        "            print('Calculating...')\n",
        "            self._apothem = self._R * math.cos(math.pi / self._n)\n",
        "        print(\"Called\")\n",
        "        return self._apothem\n",
        "\n",
        "    @property\n",
        "    def area(self):\n",
        "        if self._area is None:\n",
        "            print('Calculating...')\n",
        "            self._area = self._n / 2 * self.side_length * self.apothem\n",
        "        print('Called')\n",
        "        return self._area\n",
        "\n",
        "    @property\n",
        "    def perimeter(self):\n",
        "        if self._perimeter is None:\n",
        "            print('Calculating...')\n",
        "            self._perimeter = self._n * self.side_length\n",
        "        print(\"Called\")\n",
        "        return self._perimeter\n",
        "\n",
        "    def __eq__(self, other):\n",
        "        if isinstance(other, self.__class__):\n",
        "            return (self.count_edges == other.count_edges \n",
        "                    and self.circumradius == other.circumradius)\n",
        "        else:\n",
        "            return NotImplemented\n",
        "        \n",
        "    def __gt__(self, other):\n",
        "        if isinstance(other, self.__class__):\n",
        "            return self.count_vertices > other.count_vertices\n",
        "        else:\n",
        "            return NotImplemented"
      ],
      "execution_count": 16,
      "outputs": []
    },
    {
      "cell_type": "code",
      "metadata": {
        "id": "228LBM0DQmYv"
      },
      "source": [
        "p = Polygon(3, 5)"
      ],
      "execution_count": 7,
      "outputs": []
    },
    {
      "cell_type": "code",
      "metadata": {
        "colab": {
          "base_uri": "https://localhost:8080/"
        },
        "id": "4TWaUF_BQrvF",
        "outputId": "6a606a6e-4308-406c-d72d-942330d29def"
      },
      "source": [
        "p.area"
      ],
      "execution_count": 8,
      "outputs": [
        {
          "output_type": "stream",
          "text": [
            "Calculating...\n",
            "Calculating...\n",
            "Called\n",
            "Calculating...\n",
            "Called\n",
            "Called\n"
          ],
          "name": "stdout"
        },
        {
          "output_type": "execute_result",
          "data": {
            "text/plain": [
              "32.47595264191645"
            ]
          },
          "metadata": {
            "tags": []
          },
          "execution_count": 8
        }
      ]
    },
    {
      "cell_type": "code",
      "metadata": {
        "colab": {
          "base_uri": "https://localhost:8080/"
        },
        "id": "7_HWKRRVQuIy",
        "outputId": "3b6411c7-f76b-4711-9f91-bd0a739736b0"
      },
      "source": [
        "p.area"
      ],
      "execution_count": 9,
      "outputs": [
        {
          "output_type": "stream",
          "text": [
            "Called\n"
          ],
          "name": "stdout"
        },
        {
          "output_type": "execute_result",
          "data": {
            "text/plain": [
              "32.47595264191645"
            ]
          },
          "metadata": {
            "tags": []
          },
          "execution_count": 9
        }
      ]
    },
    {
      "cell_type": "code",
      "metadata": {
        "colab": {
          "base_uri": "https://localhost:8080/"
        },
        "id": "Lfc7SsOvQxBo",
        "outputId": "d0968923-221e-4477-ba3e-cbd53a3db3cb"
      },
      "source": [
        "p.side_length"
      ],
      "execution_count": 10,
      "outputs": [
        {
          "output_type": "stream",
          "text": [
            "Called\n"
          ],
          "name": "stdout"
        },
        {
          "output_type": "execute_result",
          "data": {
            "text/plain": [
              "8.660254037844386"
            ]
          },
          "metadata": {
            "tags": []
          },
          "execution_count": 10
        }
      ]
    },
    {
      "cell_type": "code",
      "metadata": {
        "colab": {
          "base_uri": "https://localhost:8080/"
        },
        "id": "FpGXOoPbRAps",
        "outputId": "0b433cb9-3b00-4547-e4ab-2692aeb5a67e"
      },
      "source": [
        "p.apothem"
      ],
      "execution_count": 11,
      "outputs": [
        {
          "output_type": "stream",
          "text": [
            "Called\n"
          ],
          "name": "stdout"
        },
        {
          "output_type": "execute_result",
          "data": {
            "text/plain": [
              "2.5000000000000004"
            ]
          },
          "metadata": {
            "tags": []
          },
          "execution_count": 11
        }
      ]
    },
    {
      "cell_type": "code",
      "metadata": {
        "colab": {
          "base_uri": "https://localhost:8080/"
        },
        "id": "XhFsb8BTRFF4",
        "outputId": "343493c0-0c44-4778-8960-239b73ba48b5"
      },
      "source": [
        "p.perimeter"
      ],
      "execution_count": 12,
      "outputs": [
        {
          "output_type": "stream",
          "text": [
            "Calculating...\n",
            "Called\n",
            "Called\n"
          ],
          "name": "stdout"
        },
        {
          "output_type": "execute_result",
          "data": {
            "text/plain": [
              "25.980762113533157"
            ]
          },
          "metadata": {
            "tags": []
          },
          "execution_count": 12
        }
      ]
    },
    {
      "cell_type": "code",
      "metadata": {
        "colab": {
          "base_uri": "https://localhost:8080/"
        },
        "id": "kS6lyTmvRI-2",
        "outputId": "6cdb1031-3990-4b65-d0c0-69782a475360"
      },
      "source": [
        "p.perimeter"
      ],
      "execution_count": 13,
      "outputs": [
        {
          "output_type": "stream",
          "text": [
            "Called\n"
          ],
          "name": "stdout"
        },
        {
          "output_type": "execute_result",
          "data": {
            "text/plain": [
              "25.980762113533157"
            ]
          },
          "metadata": {
            "tags": []
          },
          "execution_count": 13
        }
      ]
    },
    {
      "cell_type": "markdown",
      "metadata": {
        "id": "it1dX1dvSYIV"
      },
      "source": [
        "## Test for iterable and iterator\n"
      ]
    },
    {
      "cell_type": "code",
      "metadata": {
        "id": "2mlz1kM7Sb7S"
      },
      "source": [
        "class CustomPolygon:\n",
        "    \"\"\"\n",
        "  A class that produces polygons of all sizes greater than 0 and less than 25.\n",
        "  ...\n",
        "  Attributes\n",
        "  ---------\n",
        "  max_edges : int\n",
        "    Maxium number of edges or vertices in a polygon sequence\n",
        "  common_circum_rad : int\n",
        "    Length of the common circumradius of the sequence of polygons\n",
        "  \n",
        "  Properties\n",
        "  ---------\n",
        "  max_efficiency : float\n",
        "    Highest ratio of Area to Perimeter in a polygon sequence\n",
        "  \"\"\"\n",
        "    def __init__(self, max_edges, common_circum_rad):\n",
        "      assert max_edges > 0 and max_edges <= 25, \"Maximum number of edges can only be in the range 1 to 25!\"\n",
        "\n",
        "      self.max_edges =  max_edges\n",
        "      self.common_circum_rad = common_circum_rad\n",
        "\n",
        "      self.polygons = [Polygon(i, common_circum_rad) for i in range(1, max_edges+1)]\n",
        "\n",
        "    def __iter__(self):\n",
        "        return self.CustomPolygonIterator(self.max_edges, self.common_circum_rad)\n",
        "\n",
        "    @property\n",
        "    def max_efficiency(self):\n",
        "      all_ratios = list(map(lambda x:(x.area/x.perimeter), self.polygons))\n",
        "      return str(max(self.polygons, key = lambda x:(x.area/x.perimeter))) +  f' and area to perimeter ratio of {max(all_ratios)}'\n",
        "\n",
        "    def __getitem__(self, index):\n",
        "      if isinstance(index, int):\n",
        "          return self.polygons[index]\n",
        "\n",
        "    def __len__(self):\n",
        "      return len(self.polygons)\n",
        "    \n",
        "    def __reversed__(self):\n",
        "        return self.CustomPolygonIterator(self.max_edges, self.common_circum_rad, reverse=True)\n",
        "    \n",
        "    def __repr__(self):\n",
        "      return f\"Polygon sequence with {self.__len__()} polygons with a circumradius of {self.common_circum_rad}\"\n",
        "\n",
        "    class CustomPolygonIterator:\n",
        "      def __init__(self, max_edges, common_circum_rad, *, reverse=False):\n",
        "          self.max_edges =  max_edges\n",
        "          self.reverse = reverse\n",
        "          self.i = 0\n",
        "          self.common_circum_rad = common_circum_rad\n",
        "          \n",
        "      def __iter__(self):\n",
        "          return self\n",
        "      \n",
        "      def __next__(self):\n",
        "          if self.i >= self.max_edges:\n",
        "              raise StopIteration\n",
        "          else:\n",
        "              if self.reverse:\n",
        "                  index = self.length -1 - self.i\n",
        "              else:\n",
        "                  index = self.i\n",
        "              self.i += 1\n",
        "              return Polygon(self.i, self.common_circum_rad)"
      ],
      "execution_count": 17,
      "outputs": []
    },
    {
      "cell_type": "code",
      "metadata": {
        "colab": {
          "base_uri": "https://localhost:8080/"
        },
        "id": "bTJv65c5SkBH",
        "outputId": "07b52a58-b02f-4df1-f641-20166e854197"
      },
      "source": [
        "CustomPolygon(5,5)"
      ],
      "execution_count": 18,
      "outputs": [
        {
          "output_type": "execute_result",
          "data": {
            "text/plain": [
              "Polygon sequence with 5 polygons with a circumradius of 5"
            ]
          },
          "metadata": {
            "tags": []
          },
          "execution_count": 18
        }
      ]
    },
    {
      "cell_type": "code",
      "metadata": {
        "colab": {
          "base_uri": "https://localhost:8080/"
        },
        "id": "hGyJu7OaTHLA",
        "outputId": "e3bea9f0-9433-49c6-b0a0-c1b066eaa7eb"
      },
      "source": [
        "for i in CustomPolygon(5,5):\n",
        "  print(i)"
      ],
      "execution_count": 19,
      "outputs": [
        {
          "output_type": "stream",
          "text": [
            "Polygon(n=1, R=5)\n",
            "Polygon(n=2, R=5)\n",
            "Polygon(n=3, R=5)\n",
            "Polygon(n=4, R=5)\n",
            "Polygon(n=5, R=5)\n"
          ],
          "name": "stdout"
        }
      ]
    }
  ]
}